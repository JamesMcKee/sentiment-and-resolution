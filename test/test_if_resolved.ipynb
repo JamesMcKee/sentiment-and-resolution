{
 "cells": [
  {
   "cell_type": "code",
   "execution_count": 1,
   "id": "2e0cc196-cf90-4166-b94c-12a0064ac941",
   "metadata": {},
   "outputs": [],
   "source": [
    "from transformers import pipeline\n",
    "import os\n",
    "from sklearn.metrics import accuracy_score, precision_recall_fscore_support, confusion_matrix, classification_report\n",
    "import matplotlib.pyplot as plt\n",
    "import seaborn as sns"
   ]
  },
  {
   "cell_type": "code",
   "execution_count": 2,
   "id": "6499aa80-ef15-4ada-aaf1-727f2d5822a6",
   "metadata": {},
   "outputs": [
    {
     "name": "stderr",
     "output_type": "stream",
     "text": [
      "Device set to use cpu\n"
     ]
    }
   ],
   "source": [
    "# tested the following zero shot classifiers\n",
    "resolution_classifier = pipeline(\"zero-shot-classification\", model=\"facebook/bart-large-mnli\")   # found this to be the best, but uncomment others to test\n",
    "#resolution_classifier = pipeline(\"zero-shot-classification\", model=\"valhalla/distilbart-mnli-12-1\")\n",
    "#resolution_classifier = pipeline(\"zero-shot-classification\", model=\"roberta-large-mnli\")\n",
    "#resolution_classifier = pipeline(\"zero-shot-classification\", model=\"microsoft/deberta-large-mnli\")\n",
    "#resolution_classifier = pipeline(\"zero-shot-classification\", model=\"MoritzLaurer/deberta-v3-large-zeroshot-v2.0\")"
   ]
  },
  {
   "cell_type": "code",
   "execution_count": 3,
   "id": "94a1c24e-e982-43ff-8e84-5061ab368af4",
   "metadata": {},
   "outputs": [],
   "source": [
    "# path to the directory containing the transcript files\n",
    "directory_path = 'simulated_transcripts'"
   ]
  },
  {
   "cell_type": "code",
   "execution_count": 4,
   "id": "11c01b9e-cd45-40d4-9649-c5dba3d3f234",
   "metadata": {},
   "outputs": [],
   "source": [
    "# define resolution labels\n",
    "labels = [\"resolved\", \"not resolved\"]"
   ]
  },
  {
   "cell_type": "code",
   "execution_count": 5,
   "id": "db519292-38e0-4a43-a39f-ecdb8ca63c4a",
   "metadata": {},
   "outputs": [],
   "source": [
    "def extract_conversation_summary(file_path):\n",
    "    \"\"\"\n",
    "    Given a path to a transcript file, opens it and extracts the \"Member\" side of the conversation.\n",
    "    \"\"\"\n",
    "    with open(file_path, 'r') as file:\n",
    "        lines = file.readlines()\n",
    "    \n",
    "    # Extract Member lines\n",
    "    member_lines = [line.strip().split(\"Member: \", 1)[1] \n",
    "                              for line in lines if line.startswith(\"Member:\")]\n",
    "    \n",
    "    return \" \".join(member_lines) if member_lines else \"\"\n",
    "\n",
    "def predict_resolution(file_path):\n",
    "    \"\"\"\n",
    "    Given a path to a transcript file, predicts whether the issue being discussed was resolved or not.\n",
    "    \"\"\"\n",
    "    conversation_summary = extract_conversation_summary(file_path)\n",
    "    if not conversation_summary:\n",
    "        return \"unknown\"  # handle cases where no relevant data is available\n",
    "    \n",
    "    # pass to the resolution classifier defined at the start of the scripts\n",
    "    result = resolution_classifier(conversation_summary, labels)\n",
    "    return result[\"labels\"][0]  # result is the label with the highest score\n",
    "\n",
    "def evaluate_resolution(directory):\n",
    "    \"\"\"\n",
    "    Given a path to a directory containing call simulated transcripts, classifies each one as resolved or not resolved.\n",
    "    Simulated transcripts filenames have the format <sentiment>_<resolution>_<int>.txt\n",
    "    Sentiment can be 'positive', 'negative', or 'neutral'\n",
    "    Resolution can be 'resolved' or 'notresolved'\n",
    "    Int is a label from 1-10\n",
    "    e.g., negative_notresolved_4.txt\n",
    "    \"\"\"\n",
    "    true_labels = []\n",
    "    predicted_labels = []\n",
    "\n",
    "    for filename in os.listdir(directory):\n",
    "        if filename.endswith(\".txt\"):\n",
    "            file_path = os.path.join(directory, filename)\n",
    "\n",
    "            parts = filename.lower().split('_')     # split the filename by underscores\n",
    "            if \"resolved\" in parts:\n",
    "                true_label = \"resolved\"\n",
    "            elif \"notresolved\" in parts:\n",
    "                true_label = \"not resolved\"\n",
    "            else:\n",
    "                raise ValueError(f\"Resolution status not found in filename: {filename}\")            \n",
    "\n",
    "            true_labels.append(true_label)\n",
    "            \n",
    "            # predict resolution\n",
    "            predicted_label = predict_resolution(file_path)\n",
    "            predicted_labels.append(predicted_label)\n",
    "\n",
    "    return true_labels, predicted_labels"
   ]
  },
  {
   "cell_type": "code",
   "execution_count": 6,
   "id": "c70a4137-969f-47fd-b64a-805a196acb88",
   "metadata": {},
   "outputs": [],
   "source": [
    "# run the evaluation\n",
    "true_labels, predicted_labels = evaluate_resolution(directory_path)"
   ]
  },
  {
   "cell_type": "code",
   "execution_count": 11,
   "id": "4bb31d31-41e6-401e-9691-8654c563f3e5",
   "metadata": {},
   "outputs": [
    {
     "name": "stdout",
     "output_type": "stream",
     "text": [
      "Classification Report:\n",
      "              precision    recall  f1-score   support\n",
      "\n",
      "    resolved       0.71      0.73      0.72        30\n",
      "not resolved       0.72      0.70      0.71        30\n",
      "\n",
      "    accuracy                           0.72        60\n",
      "   macro avg       0.72      0.72      0.72        60\n",
      "weighted avg       0.72      0.72      0.72        60\n",
      "\n",
      "Accuracy: 0.72\n"
     ]
    },
    {
     "data": {
      "image/png": "[encoded data removed]",
      "text/plain": [
       "<Figure size 600x500 with 2 Axes>"
      ]
     },
     "metadata": {},
     "output_type": "display_data"
    }
   ],
   "source": [
    "valid_classes = [\"resolved\", \"not resolved\"]  # calls can either be resolved or not resolved\n",
    "\n",
    "# calculate and print the metrics to evaluate the model\n",
    "print(\"Classification Report:\")\n",
    "print(classification_report(true_labels, predicted_labels, target_names=valid_classes))\n",
    "\n",
    "cm = confusion_matrix(true_labels, predicted_labels, labels=valid_classes)\n",
    "accuracy = accuracy_score(true_labels, predicted_labels)\n",
    "\n",
    "print(f\"Accuracy: {accuracy:.2f}\")\n",
    "\n",
    "# plot a confusion matrix\n",
    "plt.figure(figsize=(6, 5))\n",
    "sns.heatmap(cm, annot=True, fmt='d', cmap='Blues', xticklabels=valid_classes, yticklabels=valid_classes)\n",
    "plt.xlabel(\"Predicted Labels\")\n",
    "plt.ylabel(\"True Labels\")\n",
    "plt.title(\"Confusion Matrix\")\n",
    "\n",
    "#plt.savefig('confusion_matrix_resolution.png', dpi=300, bbox_inches='tight')  # uncomment to save the confusion matrix to a figure\n",
    "\n",
    "plt.show()"
   ]
  },
  {
   "cell_type": "code",
   "execution_count": 8,
   "id": "fc259286-7841-497d-a885-18d90883d0ce",
   "metadata": {},
   "outputs": [],
   "source": [
    "# find the indices of false positives and false negatives\n",
    "false_positives = [i for i in range(len(true_labels)) if true_labels[i] == 'not resolved' and predicted_labels[i] == 'resolved']\n",
    "false_negatives = [i for i in range(len(true_labels)) if true_labels[i] == 'resolved' and predicted_labels[i] == 'not resolved']\n",
    "file_list = os.listdir(directory_path)"
   ]
  },
  {
   "cell_type": "code",
   "execution_count": 9,
   "id": "ccae8bb8-6c2b-4445-829f-9fc3adeb86e5",
   "metadata": {},
   "outputs": [
    {
     "name": "stdout",
     "output_type": "stream",
     "text": [
      "false positives:\n",
      "negative_notresolved_10.txt\n",
      "neutral_notresolved_10.txt\n",
      "neutral_notresolved_2.txt\n",
      "positive_notresolved_10.txt\n",
      "positive_notresolved_3.txt\n",
      "positive_notresolved_4.txt\n",
      "positive_notresolved_6.txt\n",
      "positive_notresolved_7.txt\n"
     ]
    }
   ],
   "source": [
    "print(\"false positives:\")\n",
    "for i in false_positives:\n",
    "    print(file_list[i])"
   ]
  },
  {
   "cell_type": "code",
   "execution_count": 10,
   "id": "ec0f6522-2770-4fe8-8af1-6b6508bd421d",
   "metadata": {},
   "outputs": [
    {
     "name": "stdout",
     "output_type": "stream",
     "text": [
      "false negatives:\n",
      "negative_resolved_10.txt\n",
      "negative_resolved_2.txt\n",
      "negative_resolved_5.txt\n",
      "negative_resolved_6.txt\n",
      "negative_resolved_7.txt\n",
      "negative_resolved_8.txt\n",
      "neutral_resolved_2.txt\n",
      "neutral_resolved_5.txt\n",
      "neutral_resolved_8.txt\n"
     ]
    }
   ],
   "source": [
    "print(\"false negatives:\")\n",
    "for i in false_negatives:\n",
    "    print(file_list[i])"
   ]
  }
 ],
 "metadata": {
  "kernelspec": {
   "display_name": "Python 3 (ipykernel)",
   "language": "python",
   "name": "python3"
  },
  "language_info": {
   "codemirror_mode": {
    "name": "ipython",
    "version": 3
   },
   "file_extension": ".py",
   "mimetype": "text/x-python",
   "name": "python",
   "nbconvert_exporter": "python",
   "pygments_lexer": "ipython3",
   "version": "3.10.16"
  }
 },
 "nbformat": 4,
 "nbformat_minor": 5
}
